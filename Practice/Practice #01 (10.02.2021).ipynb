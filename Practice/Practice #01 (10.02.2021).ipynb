{
 "cells": [
  {
   "cell_type": "markdown",
   "metadata": {},
   "source": [
    "# Задача про баскетболистов.\n",
    "\n",
    "**Параметры игроков**:\n",
    "- рост игрока – ожидаемый диапазон от 190 до 220 см;\n",
    "- размах рук (иначе говоря, wingspan) – ожидаемый диапазон от 200 до 250 см;\n",
    "- среднее количество очков за матч – ожидаемый диапазон от 10 до 20;\n",
    "- среднее количество подборов за матч – ожидаемый диапазон от 2 до 6;\n",
    "- среднее количество передач за матч – ожидаемый диапазон от 3 до 7.\n",
    "\n",
    "**Типы игроков**:\n",
    "- *уникальный игрок* (таких ещё называют «единорогами» — unicorn) с сочетанием выдающихся физических данных и игровых навыков;\n",
    "- *игрок, достойный выбора в первом раунде*;\n",
    "- *игрок, достойный выбора во втором раунде*;\n",
    "- *игрок, которого не стоит выбирать вообще*.\n",
    "\n",
    "Если у игрока **три параметра выше ожидаемого диапазона**, причём среди них **обязательно есть рост или размах рук**, то игрок считается игроком **0 категории**.\n",
    "\n",
    "Игрока рекомендуется выбирать в первом раунде драфта **(категория 1)**, если верно одно из следующих утверждений:\n",
    "У игрока **два параметра выше ожидаемого диапазона** и ещё один – как минимум в верхней половине ожидаемого диапазона.\n",
    "У игрока **все параметры как минимум в ожидаемом диапазоне** и **не менее трёх – как минимум в верхней половине**.\n",
    "\n",
    "Игрока рекомендуется выбирать во втором раунде драфта **(категория 2)**, если верно одно из следующих утверждений:\n",
    "У игрока **один параметр выше ожидаемого диапазона** и **ещё один — как минимум в верхней половине ожидаемого диапазона**.\n",
    "У игрока **три параметра как минимум в верхней половине ожидаемого диапазона**.\n",
    "\n",
    "В остальных случаях тратить выбор драфта на этого игрока не рекомендуется **(категория 3)**."
   ]
  },
  {
   "cell_type": "code",
   "execution_count": 1,
   "metadata": {},
   "outputs": [],
   "source": [
    "def player(height, wingspan, points_aw, selections_aw, passing_aw):\n",
    "    perfect = 0; upper_half = 0; lower_half = 0; bad = 0\n",
    "    \n",
    "    if height > 220: perfect = perfect + 1\n",
    "    elif height > 205 and height <= 220: upper_half = upper_half + 1\n",
    "    elif height >= 190 and height <= 205: lower_half = lower_half + 1\n",
    "    else: bad = bad + 1\n",
    "        \n",
    "    if wingspan > 250: perfect = perfect + 1\n",
    "    elif wingspan > 224 and wingspan <= 250: upper_half = upper_half + 1\n",
    "    elif wingspan >= 200 and wingspan <= 224: lower_half = lower_half + 1\n",
    "    else: bad = bad + 1\n",
    "        \n",
    "    if points_aw > 20: perfect = perfect + 1\n",
    "    elif points_aw > 14 and points_aw <= 20: upper_half = upper_half + 1\n",
    "    elif points_aw >= 10 and points_aw <= 14: lower_half = lower_half + 1\n",
    "    else: bad = bad + 1\n",
    "    \n",
    "    if selections_aw > 6: perfect = perfect + 1\n",
    "    elif selections_aw > 4 and selections_aw <= 6: upper_half = upper_half + 1\n",
    "    elif selections_aw >= 2 and selections_aw <= 4: lower_half = lower_half + 1\n",
    "    else: bad = bad + 1\n",
    "        \n",
    "    if passing_aw > 7: perfect = perfect + 1\n",
    "    elif passing_aw > 4 and passing_aw <= 7: upper_half = upper_half + 1\n",
    "    elif passing_aw >= 3 and passing_aw <= 4: lower_half = lower_half + 1\n",
    "    else: bad = bad + 1\n",
    "    \n",
    "    # Вывод баллов каждого баскетболиста\n",
    "    # print(perfect, \" \", upper_half, \" \", lower_half, \" \", bad)\n",
    "    \n",
    "    if perfect >= 3 and (height > 220 or wingspan > 250): return 0\n",
    "    elif (perfect >= 2 and upper_half >= 1) or (upper_half >= 3 and lower_half <= 2 and bad == 0): return 1\n",
    "    elif (perfect >= 1 and upper_half >= 1) or (upper_half >= 3): return 2\n",
    "    else: return 3"
   ]
  },
  {
   "cell_type": "code",
   "execution_count": 2,
   "metadata": {
    "scrolled": true
   },
   "outputs": [
    {
     "name": "stdout",
     "output_type": "stream",
     "text": [
      "0\n",
      "2\n",
      "1\n"
     ]
    }
   ],
   "source": [
    "print(player(230, 190, 16, 7, 9))\n",
    "print(player(205, 225, 15, 5, 2))\n",
    "print(player(210, 210, 30, 9, 9))"
   ]
  },
  {
   "cell_type": "code",
   "execution_count": null,
   "metadata": {},
   "outputs": [],
   "source": []
  }
 ],
 "metadata": {
  "kernelspec": {
   "display_name": "Python 3",
   "language": "python",
   "name": "python3"
  },
  "language_info": {
   "codemirror_mode": {
    "name": "ipython",
    "version": 3
   },
   "file_extension": ".py",
   "mimetype": "text/x-python",
   "name": "python",
   "nbconvert_exporter": "python",
   "pygments_lexer": "ipython3",
   "version": "3.8.3"
  }
 },
 "nbformat": 4,
 "nbformat_minor": 4
}
