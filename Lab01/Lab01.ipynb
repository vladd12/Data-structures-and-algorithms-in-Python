{
 "cells": [
  {
   "cell_type": "markdown",
   "metadata": {},
   "source": [
    "# Лабораторная работа 1. Методы сортировки.\n",
    "    Выполнил: Щитов В.М.\n",
    "    Группа: БВТ1903\n",
    "    Вариант: 22"
   ]
  },
  {
   "cell_type": "markdown",
   "metadata": {},
   "source": [
    "### Задание.\n",
    "Реализовать метод сортировки Шелла строк числовой матрицы в соответствии с индивидуальным заданием. Добавить реализацию быстрой сортировки (quicksort). Оценить время работы каждого алгоритма сортировки и сравнить его со временем стандартной функции сортировки, используемой в Python."
   ]
  },
  {
   "cell_type": "markdown",
   "metadata": {},
   "source": [
    "### Необходимые библиотеки.\n",
    "Для реализации двумерного массива (матрицы) можно использовать библиотеку **NumPy**. Для замеров времени выполнения алгоритмов используется модуль **time** стандартной библиотеки языка."
   ]
  },
  {
   "cell_type": "code",
   "execution_count": 1,
   "metadata": {},
   "outputs": [],
   "source": [
    "# Импортирование библиотеки\n",
    "import numpy as np\n",
    "import time"
   ]
  },
  {
   "cell_type": "code",
   "execution_count": 2,
   "metadata": {},
   "outputs": [
    {
     "name": "stdout",
     "output_type": "stream",
     "text": [
      "[[ 1.  3.  2. 28. 19. 32.  7.]\n",
      " [ 4. 18.  6.  5.  2. 22. 11.]\n",
      " [13.  8. 24. 48. 15. 10.  9.]\n",
      " [76. 62. 89. 30. 60. 93. 57.]\n",
      " [83. 75. 26. 10. 76. 42. 10.]\n",
      " [69. 88. 24. 38. 71. 92.  9.]]\n"
     ]
    }
   ],
   "source": [
    "# Реализация матрицы с помощью двумерного массива NumPy\n",
    "matrix = np.array([ [1, 3, 2, 28, 19, 32, 7],\n",
    "                    [4, 18, 6, 5, 2, 22, 11],\n",
    "                    [13, 8, 24, 48, 15, 10, 9],\n",
    "                    [76, 62, 89, 30, 60, 93, 57],\n",
    "                    [83, 75, 26, 10, 76, 42, 10],\n",
    "                    [69, 88, 24, 38, 71, 92, 9] ], float)\n",
    "print(matrix)"
   ]
  },
  {
   "cell_type": "code",
   "execution_count": 3,
   "metadata": {},
   "outputs": [],
   "source": [
    "# Функция сортировки Шелла для каждой строки матрицы\n",
    "def shell_sort(row):\n",
    "    last_index = len(row) - 1\n",
    "    step = len(row) // 2\n",
    "    sort_row = row.copy()\n",
    "    while step > 0:\n",
    "        for i in range(step, last_index + 1, 1):\n",
    "            j = i\n",
    "            delta = j - step\n",
    "            while delta >= 0 and sort_row[delta] > sort_row[j]:\n",
    "                sort_row[delta], sort_row[j] = sort_row[j], sort_row[delta]\n",
    "                j = delta\n",
    "                delta = j - step\n",
    "        step //= 2\n",
    "    return sort_row"
   ]
  },
  {
   "cell_type": "code",
   "execution_count": 4,
   "metadata": {},
   "outputs": [],
   "source": [
    "# Функция возвращает индекс опорного элемента\n",
    "def partition(row, low, high):\n",
    "    x = row[high]\n",
    "    i = low - 1\n",
    "    j = low\n",
    "    tmp = 0\n",
    "    while j < high:\n",
    "        if row[j] <= x:\n",
    "            i = i + 1\n",
    "            tmp = row[i]\n",
    "            row[i] = row[j]\n",
    "            row[j] = tmp\n",
    "        j = j + 1\n",
    "    tmp = row[high]\n",
    "    row[high] = row[i + 1]\n",
    "    row[i + 1] = tmp\n",
    "    return i + 1 \n",
    "\n",
    "# Функция быстрой сортировки\n",
    "def quicksort(row, low, high):\n",
    "    if low < high:\n",
    "        p = partition(row, low, high)\n",
    "        quicksort(row, low, p - 1)\n",
    "        quicksort(row, p + 1, high)"
   ]
  },
  {
   "cell_type": "code",
   "execution_count": 5,
   "metadata": {},
   "outputs": [],
   "source": [
    "# Функция, формирующая отсортированную матрицу\n",
    "def using_sort(matrix, sort_type = 'none'):\n",
    "    sort_matrix = np.zeros(matrix.shape)\n",
    "    algo_time = 0;\n",
    "    \n",
    "    # Если выбрана сортировка Шелла\n",
    "    if sort_type == 'shell':\n",
    "        tic = time.perf_counter_ns()\n",
    "        for i in range (0, len(matrix)):\n",
    "            sort_matrix[i] = shell_sort(matrix[i,:])\n",
    "        toc = time.perf_counter_ns()\n",
    "        algo_time = toc - tic\n",
    "    \n",
    "    # Если выбрана быстрая сортировка\n",
    "    elif sort_type == 'quick':\n",
    "        sort_matrix = matrix.copy()\n",
    "        tic = time.perf_counter_ns()\n",
    "        for i in range (0, len(matrix)):\n",
    "            quicksort(sort_matrix[i,:], 0, sort_matrix.shape[1] - 1)\n",
    "        toc = time.perf_counter_ns()\n",
    "        algo_time = toc - tic\n",
    "    \n",
    "    # В противном случае выбирается стандартная функция сортировки NumPy\n",
    "    else:\n",
    "        tic = time.perf_counter_ns()\n",
    "        for i in range (0, len(matrix)):\n",
    "            sort_matrix[i] = np.sort(matrix[i,:])\n",
    "        toc = time.perf_counter_ns()\n",
    "        algo_time = toc - tic\n",
    "\n",
    "    # Вывод результатов на экран и их возвращение функцией\n",
    "    print('Время выполнения сортировки (в милисекундах): ', algo_time / (pow(10, 6)))\n",
    "    print('Результат:\\n', sort_matrix, \"\\n\")\n",
    "    return sort_matrix"
   ]
  },
  {
   "cell_type": "code",
   "execution_count": 6,
   "metadata": {},
   "outputs": [
    {
     "name": "stdout",
     "output_type": "stream",
     "text": [
      "Сортировка Шелла\n",
      "Время выполнения сортировки (в милисекундах):  0.190784\n",
      "Результат:\n",
      " [[ 1.  2.  3.  7. 19. 28. 32.]\n",
      " [ 2.  4.  5.  6. 11. 18. 22.]\n",
      " [ 8.  9. 10. 13. 15. 24. 48.]\n",
      " [30. 57. 60. 62. 76. 89. 93.]\n",
      " [10. 10. 26. 42. 75. 76. 83.]\n",
      " [ 9. 24. 38. 69. 71. 88. 92.]] \n",
      "\n",
      "Быстрая сортировка\n",
      "Время выполнения сортировки (в милисекундах):  0.122561\n",
      "Результат:\n",
      " [[ 1.  2.  3.  7. 19. 28. 32.]\n",
      " [ 2.  4.  5.  6. 11. 18. 22.]\n",
      " [ 8.  9. 10. 13. 15. 24. 48.]\n",
      " [30. 57. 60. 62. 76. 89. 93.]\n",
      " [10. 10. 26. 42. 75. 76. 83.]\n",
      " [ 9. 24. 38. 69. 71. 88. 92.]] \n",
      "\n",
      "Стандартная функция сортировки NumPy\n",
      "Время выполнения сортировки (в милисекундах):  0.187162\n",
      "Результат:\n",
      " [[ 1.  2.  3.  7. 19. 28. 32.]\n",
      " [ 2.  4.  5.  6. 11. 18. 22.]\n",
      " [ 8.  9. 10. 13. 15. 24. 48.]\n",
      " [30. 57. 60. 62. 76. 89. 93.]\n",
      " [10. 10. 26. 42. 75. 76. 83.]\n",
      " [ 9. 24. 38. 69. 71. 88. 92.]] \n",
      "\n"
     ]
    }
   ],
   "source": [
    "# Вызов каждого метода сортировки с выводом времени выполнения и отсортированной матрицы\n",
    "\n",
    "# Сортировка Шелла\n",
    "print('Сортировка Шелла')\n",
    "a = using_sort(matrix, 'shell')\n",
    "\n",
    "# Быстрая сортировка\n",
    "print('Быстрая сортировка')\n",
    "a = using_sort(matrix, 'quick')\n",
    "\n",
    "# Стандартная функция сортировки\n",
    "print('Стандартная функция сортировки NumPy')\n",
    "a = using_sort(matrix)"
   ]
  }
 ],
 "metadata": {
  "kernelspec": {
   "display_name": "Python 3",
   "language": "python",
   "name": "python3"
  },
  "language_info": {
   "codemirror_mode": {
    "name": "ipython",
    "version": 3
   },
   "file_extension": ".py",
   "mimetype": "text/x-python",
   "name": "python",
   "nbconvert_exporter": "python",
   "pygments_lexer": "ipython3",
   "version": "3.8.3"
  }
 },
 "nbformat": 4,
 "nbformat_minor": 4
}
